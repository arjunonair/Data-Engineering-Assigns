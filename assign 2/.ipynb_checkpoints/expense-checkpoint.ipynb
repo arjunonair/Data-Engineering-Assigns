{
 "cells": [
  {
   "cell_type": "markdown",
   "metadata": {},
   "source": [
    "### Assignment – 2 Expense Tracker Using Python\n"
   ]
  },
  {
   "cell_type": "markdown",
   "metadata": {},
   "source": [
    "Data Storage:"
   ]
  },
  {
   "cell_type": "code",
   "execution_count": 25,
   "metadata": {},
   "outputs": [],
   "source": [
    "expenses = []\n",
    "users = {\"Arjun\":\"pass@123\",\"Test\":\"Test@123\",\"SomeOne\":\"pass@word\"}"
   ]
  },
  {
   "cell_type": "markdown",
   "metadata": {},
   "source": [
    "Create Classes and Methods:"
   ]
  },
  {
   "cell_type": "code",
   "execution_count": 26,
   "metadata": {},
   "outputs": [],
   "source": [
    "from datetime import datetime\n",
    "class Expense:\n",
    "    def __init__(self,expense_id,date,category,description,amount) -> None:\n",
    "        self.expense_id = expense_id\n",
    "        self.date = datetime.strptime(date,\"%Y-%m-%d\").date()\n",
    "        self.category = category\n",
    "        self.description = description\n",
    "        self.amount = amount\n",
    "\n",
    "    def __str__(self) -> str:\n",
    "         return f\"\"\"\n",
    "         Expense details:\n",
    "         id : {self.expense_id}\n",
    "         date : {self.date}\n",
    "         category : {self.category}\n",
    "         description : {self.description}\n",
    "         amount : {self.amount}\n",
    "         \"\"\"\n"
   ]
  },
  {
   "cell_type": "markdown",
   "metadata": {},
   "source": [
    "add_expense(expense): Adds a new expense object to the list\n"
   ]
  },
  {
   "cell_type": "code",
   "execution_count": 27,
   "metadata": {},
   "outputs": [],
   "source": [
    "#Function to add expense\n",
    "def add_expense(expenses):\n",
    "    expense_id = int(input('Enter the expense id: '))\n",
    "    date = input('Enter the date(yyyy-mm-dd): ')\n",
    "    category = input('Enter the category: ')\n",
    "    description = input('Enter the description: ')\n",
    "    amount = int(input('Enter the amount: '))\n",
    "\n",
    "    expenses.append(Expense(expense_id,date,category,description,amount))\n",
    "    print('\\nNew Expense added!')"
   ]
  },
  {
   "cell_type": "markdown",
   "metadata": {},
   "source": [
    "update_expense(expense_id, new_expense): Updates an existing expense object\n",
    "based on expense_id"
   ]
  },
  {
   "cell_type": "code",
   "execution_count": 28,
   "metadata": {},
   "outputs": [],
   "source": [
    "#Function to update expense\n",
    "def update_expense(expense_id,new_expense):\n",
    "    for expense in expenses:\n",
    "        if expense.expense_id == expense_id:\n",
    "            expense.date = new_expense.date if new_expense.date else expense.date\n",
    "            expense.category = new_expense.category if new_expense.category else expense.category\n",
    "            expense.description = new_expense.description if new_expense.description else expense.description\n",
    "            expense.amount = new_expense.amount if new_expense.amount else expense.amount\n",
    "    print('\\nExpense updated !')"
   ]
  },
  {
   "cell_type": "markdown",
   "metadata": {},
   "source": [
    "delete_expense(expense_id): Deletes an expense object from the list based on\n",
    "expense_id"
   ]
  },
  {
   "cell_type": "code",
   "execution_count": 29,
   "metadata": {},
   "outputs": [],
   "source": [
    "#Function to delete expense\n",
    "def delete_expense(expense_id):\n",
    "    for exp in expenses:\n",
    "        if exp.expense_id == expense_id:\n",
    "            expenses.remove(exp)\n",
    "            print('\\nExpense had been removed!')"
   ]
  },
  {
   "cell_type": "markdown",
   "metadata": {},
   "source": [
    "display_expenses(): Displays all expense objects in the list"
   ]
  },
  {
   "cell_type": "code",
   "execution_count": 30,
   "metadata": {},
   "outputs": [],
   "source": [
    "#Function to display expense\n",
    "def display_expenses():\n",
    "    print('''\\nExpenseID\\tDate\\t\\tCategory\\tDescription\\tAmount''')\n",
    "    print(\"*********\\t*****\\t\\t*********\\t***********\\t*******\")\n",
    "    for exp in expenses:\n",
    "        print(f'''{exp.expense_id}\\t\\t{exp.date}\\t{exp.category}\\t\\t{exp.description}\\t\\t{exp.amount}''')\n"
   ]
  },
  {
   "cell_type": "code",
   "execution_count": 31,
   "metadata": {},
   "outputs": [],
   "source": [
    "\n",
    "#Function to authenticate the user\n",
    "def authenticate_user(username,password):\n",
    "    for name,pwd in users.items():\n",
    "        if name == username and password == pwd:\n",
    "            print('\\nLogin successfull!')\n",
    "            return True\n",
    "    print('\\nLogin failed!')\n",
    "    return False"
   ]
  },
  {
   "cell_type": "markdown",
   "metadata": {},
   "source": [
    "User Authentication:"
   ]
  },
  {
   "cell_type": "code",
   "execution_count": 32,
   "metadata": {},
   "outputs": [],
   "source": [
    "# Function which returns a dictionary of category and its amount\n",
    "def catergorize_expenses():\n",
    "    categories = {}\n",
    "    for expense in expenses:\n",
    "        if expense.category not in categories:\n",
    "            categories[expense.category] = expense.amount\n",
    "        else:\n",
    "            categories[expense.category] += expense.amount\n",
    "    return categories"
   ]
  },
  {
   "cell_type": "markdown",
   "metadata": {},
   "source": [
    "summarize_expenses()"
   ]
  },
  {
   "cell_type": "code",
   "execution_count": 33,
   "metadata": {},
   "outputs": [],
   "source": [
    "\n",
    "#Function which gives total expenditure\n",
    "def summarize_expenses():\n",
    "    total_amount = 0\n",
    "    for expense in expenses:\n",
    "        total_amount += expense.amount\n",
    "    return total_amount"
   ]
  },
  {
   "cell_type": "markdown",
   "metadata": {},
   "source": [
    "categorize_expenses()."
   ]
  },
  {
   "cell_type": "code",
   "execution_count": 34,
   "metadata": {},
   "outputs": [],
   "source": [
    "#Function which gives total expenditure\n",
    "def calculate_total_expenses():\n",
    "    total_amount = 0\n",
    "    for expense in expenses:\n",
    "        total_amount += expense.amount\n",
    "    return total_amount"
   ]
  },
  {
   "cell_type": "markdown",
   "metadata": {},
   "source": [
    "generate_summary_report():"
   ]
  },
  {
   "cell_type": "code",
   "execution_count": 35,
   "metadata": {},
   "outputs": [],
   "source": [
    "\n",
    "#Function to generate report based on the amount.\n",
    "def generate_report():\n",
    "    category = catergorize_expenses()\n",
    "    print('\\n-----------------------------------------------------')\n",
    "    print('\\n------------- Expense Summary Report  ---------------')\n",
    "    for cgy,amount in category.items():\n",
    "        print(f\"- {cgy} -> \\t\\t\\t\\t$ {amount}\")\n",
    "    print('\\n-----------------------------------------------------')\n",
    "    print(f\"- Final Amount -> \\t\\t\\t$ {calculate_total_expenses()}\")"
   ]
  },
  {
   "cell_type": "markdown",
   "metadata": {},
   "source": [
    "Simple CLI for Interaction:"
   ]
  },
  {
   "cell_type": "code",
   "execution_count": 36,
   "metadata": {},
   "outputs": [
    {
     "name": "stdout",
     "output_type": "stream",
     "text": [
      "-------------WELCOME TO EXPENSE TRACKER-------------\n",
      "\n",
      "Enter Login Details :: \n",
      "\n",
      "Login successfull!\n",
      "\n",
      "-----------------------------------------------------\n",
      "\n",
      "            1 -> Add Expense\n",
      "            2 -> Update Expense\n",
      "            3 -> Delete Expense\n",
      "            4 -> Display Expense\n",
      "            5 -> Generate Report\n",
      "            6 -> Quit\n",
      "            \n",
      "-----------------------------------------------------\n",
      "\n",
      "\n",
      "New Expense added!\n",
      "\n",
      "-----------------------------------------------------\n",
      "\n",
      "            1 -> Add Expense\n",
      "            2 -> Update Expense\n",
      "            3 -> Delete Expense\n",
      "            4 -> Display Expense\n",
      "            5 -> Generate Report\n",
      "            6 -> Quit\n",
      "            \n",
      "-----------------------------------------------------\n",
      "\n",
      "\n",
      "New Expense added!\n",
      "\n",
      "-----------------------------------------------------\n",
      "\n",
      "            1 -> Add Expense\n",
      "            2 -> Update Expense\n",
      "            3 -> Delete Expense\n",
      "            4 -> Display Expense\n",
      "            5 -> Generate Report\n",
      "            6 -> Quit\n",
      "            \n",
      "-----------------------------------------------------\n",
      "\n",
      "\n",
      "ExpenseID\tDate\t\tCategory\tDescription\tAmount\n",
      "*********\t*****\t\t*********\t***********\t*******\n",
      "1\t\t2020-12-12\tFood\t\tDinner\t\t1000\n",
      "2\t\t2023-12-01\tCloth\t\tShirt\t\t2000\n",
      "\n",
      "-----------------------------------------------------\n",
      "\n",
      "            1 -> Add Expense\n",
      "            2 -> Update Expense\n",
      "            3 -> Delete Expense\n",
      "            4 -> Display Expense\n",
      "            5 -> Generate Report\n",
      "            6 -> Quit\n",
      "            \n",
      "-----------------------------------------------------\n",
      "\n",
      "\n",
      "-----------------------------------------------------\n",
      "\n",
      "------------- Expense Summary Report  ---------------\n",
      "- Food -> \t\t\t\t$ 1000\n",
      "- Cloth -> \t\t\t\t$ 2000\n",
      "\n",
      "-----------------------------------------------------\n",
      "- Final Amount -> \t\t\t$ 3000\n",
      "\n",
      "-----------------------------------------------------\n",
      "\n",
      "            1 -> Add Expense\n",
      "            2 -> Update Expense\n",
      "            3 -> Delete Expense\n",
      "            4 -> Display Expense\n",
      "            5 -> Generate Report\n",
      "            6 -> Quit\n",
      "            \n",
      "-----------------------------------------------------\n",
      "\n",
      "\n",
      "Expense had been removed!\n",
      "\n",
      "-----------------------------------------------------\n",
      "\n",
      "            1 -> Add Expense\n",
      "            2 -> Update Expense\n",
      "            3 -> Delete Expense\n",
      "            4 -> Display Expense\n",
      "            5 -> Generate Report\n",
      "            6 -> Quit\n",
      "            \n",
      "-----------------------------------------------------\n",
      "\n",
      "\n",
      "ExpenseID\tDate\t\tCategory\tDescription\tAmount\n",
      "*********\t*****\t\t*********\t***********\t*******\n",
      "1\t\t2020-12-12\tFood\t\tDinner\t\t1000\n",
      "\n",
      "-----------------------------------------------------\n",
      "\n",
      "            1 -> Add Expense\n",
      "            2 -> Update Expense\n",
      "            3 -> Delete Expense\n",
      "            4 -> Display Expense\n",
      "            5 -> Generate Report\n",
      "            6 -> Quit\n",
      "            \n",
      "-----------------------------------------------------\n",
      "\n",
      "\n",
      "Thank you. Have a nice day :)\n",
      "\n"
     ]
    }
   ],
   "source": [
    "#Main function with user CLI\n",
    "print('-------------WELCOME TO EXPENSE TRACKER-------------')\n",
    "print(\"\\nEnter Login Details :: \")\n",
    "username = input(\"\\nEnter username : \")\n",
    "password = input(\"\\nEnter password : \")\n",
    "if(authenticate_user(username,password)):\n",
    "    while True:\n",
    "        print('\\n-----------------------------------------------------')\n",
    "        print('''\n",
    "            1 -> Add Expense\n",
    "            2 -> Update Expense\n",
    "            3 -> Delete Expense\n",
    "            4 -> Display Expense\n",
    "            5 -> Generate Report\n",
    "            6 -> Quit\n",
    "            ''')\n",
    "        print('-----------------------------------------------------\\n')\n",
    "        choice = input(\"Enter your choice\")\n",
    "        if choice == '1':\n",
    "            add_expense(expenses)\n",
    "        elif choice == '2':\n",
    "            expense_id = int(input('Enter the expense id: '))\n",
    "            date = input('Enter the date(yyyy-mm-dd): ')\n",
    "            category = input('Enter the category: ')\n",
    "            description = input('Enter the description: ')\n",
    "            amount = input('Enter the amount: ')\n",
    "            if date == '' or amount == '':\n",
    "                print('\\nDate and Amount Cannot be empty.')\n",
    "                continue\n",
    "            update_expense(expense_id,Expense(expense_id,date,category,description,int(amount)))\n",
    "        elif choice == '3':\n",
    "            expense_id = int(input('Enter the expense id: '))\n",
    "            delete_expense(expense_id)\n",
    "        elif choice == '4':\n",
    "            display_expenses()\n",
    "        elif choice == '5':\n",
    "            generate_report()\n",
    "        elif choice == '6':\n",
    "            print('\\nThank you. Have a nice day :)\\n')\n",
    "            break\n",
    "        else:\n",
    "            print('\\nInvalid choice!')\n",
    "else:\n",
    "    print('\\n*You are not Authorized to seee this Page. Please Restart and Login!')\n"
   ]
  }
 ],
 "metadata": {
  "kernelspec": {
   "display_name": "Python 3",
   "language": "python",
   "name": "python3"
  },
  "language_info": {
   "codemirror_mode": {
    "name": "ipython",
    "version": 3
   },
   "file_extension": ".py",
   "mimetype": "text/x-python",
   "name": "python",
   "nbconvert_exporter": "python",
   "pygments_lexer": "ipython3",
   "version": "3.12.3"
  }
 },
 "nbformat": 4,
 "nbformat_minor": 2
}
