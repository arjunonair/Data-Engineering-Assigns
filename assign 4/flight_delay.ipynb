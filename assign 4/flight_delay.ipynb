{
 "cells": [
  {
   "cell_type": "code",
   "execution_count": null,
   "metadata": {},
   "outputs": [],
   "source": [
    "import pandas as pd\n",
    "import pymongo\n",
    "import matplotlib.pyplot as plt\n",
    "import seaborn as sns"
   ]
  },
  {
   "cell_type": "code",
   "execution_count": null,
   "metadata": {},
   "outputs": [],
   "source": [
    "flight_df = pd.read_csv('Flights_Delay.csv')"
   ]
  },
  {
   "cell_type": "code",
   "execution_count": null,
   "metadata": {},
   "outputs": [],
   "source": [
    "mean_num = flight_df['ARRIVAL_DELAY'].mean()\n",
    "flight_df['ARRIVAL_DELAY'] = flight_df['ARRIVAL_DELAY'].fillna(mean_num)"
   ]
  },
  {
   "cell_type": "code",
   "execution_count": null,
   "metadata": {},
   "outputs": [],
   "source": [
    "mean_num = flight_df['DEPARTURE_DELAY'].mean()\n",
    "flight_df['DEPARTURE_DELAY'] = flight_df['DEPARTURE_DELAY'].fillna(mean_num)"
   ]
  },
  {
   "cell_type": "code",
   "execution_count": null,
   "metadata": {},
   "outputs": [],
   "source": [
    "mean_num = flight_df['AIR_TIME'].mean()\n",
    "flight_df['AIR_TIME'] = flight_df['AIR_TIME'].fillna(mean_num)"
   ]
  },
  {
   "cell_type": "code",
   "execution_count": null,
   "metadata": {},
   "outputs": [],
   "source": [
    "flight_df['DEPARTURE_TIME'] = flight_df['DEPARTURE_TIME'].fillna(0)\n",
    "flight_df['ARRIVAL_TIME'] = flight_df['ARRIVAL_TIME'].fillna(0)\n",
    "flight_df['ARRIVAL_TIME']"
   ]
  },
  {
   "cell_type": "code",
   "execution_count": null,
   "metadata": {},
   "outputs": [],
   "source": [
    "flight_df['DEPARTURE_TIME'] = flight_df['DEPARTURE_TIME'].astype('int')\n",
    "flight_df['DEPARTURE_TIME'] = flight_df['DEPARTURE_TIME'].apply(lambda x : x //100 )"
   ]
  },
  {
   "cell_type": "code",
   "execution_count": null,
   "metadata": {},
   "outputs": [],
   "source": [
    "flight_df['ARRIVAL_TIME'] = flight_df['ARRIVAL_TIME'].astype('int')\n",
    "flight_df['ARRIVAL_TIME'] = flight_df['ARRIVAL_TIME'].apply(lambda x : x //100 )"
   ]
  },
  {
   "cell_type": "code",
   "execution_count": null,
   "metadata": {},
   "outputs": [],
   "source": [
    "flight_df['ARRIVAL_TIME'].value_counts()"
   ]
  },
  {
   "cell_type": "markdown",
   "metadata": {},
   "source": [
    "### 1. Create collections “flights” inside database “airline_delayDB”\n",
    "### 2. How would you insert this entire dataset into a MongoDB collection named flights? Describe the structure of each document.\n"
   ]
  },
  {
   "cell_type": "code",
   "execution_count": null,
   "metadata": {},
   "outputs": [],
   "source": [
    "\n",
    "client = pymongo.MongoClient('localhost:27017')\n",
    "db = client['flight_db']\n",
    "\n",
    "flight_docs = flight_df.to_dict('records')\n",
    "\n",
    "collection_name = 'flight'\n",
    "\n",
    "if collection_name in db.list_collection_names():\n",
    "    db[collection_name].drop()\n",
    "\n",
    "flights = db[collection_name]\n",
    "\n",
    "if flight_docs:\n",
    "    flights.insert_many(flight_docs)\n"
   ]
  },
  {
   "cell_type": "markdown",
   "metadata": {},
   "source": [
    "### 3. Write a MongoDB command to insert a single flight record from the dataset.\n"
   ]
  },
  {
   "cell_type": "code",
   "execution_count": null,
   "metadata": {},
   "outputs": [],
   "source": [
    "\n",
    "flights.insert_one({\n",
    "    \"ID\": 56000,\n",
    "    \"YEAR\": 2015,\n",
    "    \"MONTH\": 3,\n",
    "    \"DAY\": 4,\n",
    "    \"DAY_OF_WEEK\": 3,\n",
    "    \"AIRLINE\": \"EV\",\n",
    "    \"FLIGHT_NUMBER\": 5170,\n",
    "    \"TAIL_NUMBER\": \"N842AS\",\n",
    "    \"ORIGIN_AIRPORT\": \"CVG\",\n",
    "    \"DESTINATION_AIRPORT\": \"XNA\",\n",
    "    \"SCHEDULED_DEPARTURE\": 935,\n",
    "    \"DEPARTURE_TIME\": 954,\n",
    "    \"DEPARTURE_DELAY\": 19,\n",
    "    \"TAXI_OUT\": 16,\n",
    "    \"WHEELS_OFF\": 1010,\n",
    "    \"SCHEDULED_TIME\": 115,\n",
    "    \"ELAPSED_TIME\": 129,\n",
    "    \"AIR_TIME\": 108,\n",
    "    \"DISTANCE\": 562,\n",
    "    \"WHEELS_ON\": 1058,\n",
    "    \"TAXI_IN\": 5,\n",
    "    \"SCHEDULED_ARRIVAL\": 1030,\n",
    "    \"ARRIVAL_TIME\": 1103,\n",
    "    \"ARRIVAL_DELAY\": 33,\n",
    "    \"DIVERTED\": 0,\n",
    "    \"CANCELLED\": 0,\n",
    "    \"CANCELLATION_REASON\": \"\",\n",
    "    \"AIR_SYSTEM_DELAY\": 14,\n",
    "    \"SECURITY_DELAY\": 0,\n",
    "    \"AIRLINE_DELAY\": 19,\n",
    "    \"LATE_AIRCRAFT_DELAY\": 0,\n",
    "    \"WEATHER_DELAY\": 0\n",
    "})"
   ]
  },
  {
   "cell_type": "markdown",
   "metadata": {},
   "source": [
    "### 4. Write a MongoDB query to find all flights that were delayed by more than 60 minutes.\n"
   ]
  },
  {
   "cell_type": "code",
   "execution_count": null,
   "metadata": {},
   "outputs": [],
   "source": [
    "delayed_flights = flights.find({'$or': [{'ARRIVAL_DELAY': {'$gt' : 60}},{'DEPARTURE_DELAY' : {'$gt' : 60}}]},\n",
    "                               {'_id':0,'FLIGHT_NUMBER':1,'AIRLINE':1})\n",
    "for flight in delayed_flights:\n",
    "    print(flight)"
   ]
  },
  {
   "cell_type": "markdown",
   "metadata": {},
   "source": [
    "#### 5. How would you query all flights that were cancelled (CANCELLED flag set to 1) and return only the AIRLINE, ORIGIN_AIRPORT, and CANCELLATION_REASON fields?"
   ]
  },
  {
   "cell_type": "code",
   "execution_count": null,
   "metadata": {},
   "outputs": [],
   "source": [
    "\n",
    "cancelled_flights = flights.find({'CANCELLED': 1},\n",
    "                                 {'_id':0,'AIRLINE':1,'ORIGIN_AIRPORT':1,'CANCELLATION_REASON':1}\n",
    "                                 )\n",
    "for flight in cancelled_flights:\n",
    "    print(flight)"
   ]
  },
  {
   "cell_type": "markdown",
   "metadata": {},
   "source": [
    "#### 6. Using MongoDB’s aggregation framework, how would you calculate the average arrival delay (ARRIVAL_DELAY) for each airline? [Create a suitable plot using matplotlib/seaborn]"
   ]
  },
  {
   "cell_type": "code",
   "execution_count": null,
   "metadata": {},
   "outputs": [],
   "source": [
    "# 6. Using MongoDB’s aggregation framework, how would you calculate the average arrival delay (ARRIVAL_DELAY) \n",
    "# for each airline? [Create a suitable plot using matplotlib/seaborn]\n",
    "avg_flight_delays = flights.aggregate([\n",
    "    {'$group': {'_id':'$AIRLINE', 'avgDelay': {'$avg':'$ARRIVAL_DELAY'}}},\n",
    "    {'$project': {'AIRLINE':1,'avgDelay' :{'$round': ['$avgDelay',2]}}}\n",
    "])\n",
    "\n",
    "delay_df = pd.DataFrame(list(avg_flight_delays))\n",
    "\n",
    "plt.figure(figsize=(12, 9))\n",
    "sns.set_style('whitegrid')\n",
    "sns.barplot(data=delay_df, x='_id', y='avgDelay', palette='viridis')\n",
    "plt.xlabel('AIRLINE')\n",
    "plt.ylabel('Average Arrival Delay')\n",
    "plt.title('Average Arrival Delay by Airline')\n",
    "plt.xticks(rotation=45)\n",
    "plt.show()"
   ]
  },
  {
   "cell_type": "markdown",
   "metadata": {},
   "source": [
    "#### 7. Days of months with respect to average of arrival delays. [Create a suitable plot using matplotlib/seaborn]\n"
   ]
  },
  {
   "cell_type": "code",
   "execution_count": null,
   "metadata": {},
   "outputs": [],
   "source": [
    "day_delays = flights.aggregate([\n",
    "    {'$group': {'_id':'$DAY', 'avgDelay': {'$avg':'$ARRIVAL_DELAY'}}},\n",
    "    {'$project': {'_id' :0,'DAY':'$_id','avgDelay' :{'$round': ['$avgDelay',2]}}},\n",
    "    {'$sort':{'_id':1}}\n",
    "])\n",
    "\n",
    "day_df = pd.DataFrame(list(day_delays))\n",
    "\n",
    "plt.figure(figsize=(12, 9))\n",
    "sns.set_style('whitegrid')\n",
    "sns.barplot(data=day_df, x='DAY', y='avgDelay', palette='viridis')\n",
    "plt.xlabel('Day of month')\n",
    "plt.ylabel('Average Arrival Delay')\n",
    "plt.title('Days with average arrivals')\n",
    "plt.xticks(rotation=45)\n",
    "plt.show()"
   ]
  },
  {
   "cell_type": "markdown",
   "metadata": {},
   "source": [
    "#### 8. Write a MongoDB aggregation pipeline to find the top 10 airports with the highest average total delay (DEPARTURE_DELAY + ARRIVAL_DELAY)"
   ]
  },
  {
   "cell_type": "code",
   "execution_count": null,
   "metadata": {},
   "outputs": [],
   "source": [
    "day_delays = flights.aggregate([\n",
    "    {'$group': {'_id':'$AIRLINE', 'avgDelay': {'$avg':{'$add' :['$DEPARTURE_DELAY','$ARRIVAL_DELAY'] }}}},\n",
    "    {'$project': {'_id' : 0,'AIRLINE':'$_id','avgDelay' :{'$round': ['$avgDelay',2]}}},\n",
    "    {'$sort':{'avgDelay':-1}},\n",
    "    {'$limit':10}\n",
    "])\n",
    "\n",
    "for i in day_delays:\n",
    "    print(i)"
   ]
  },
  {
   "cell_type": "markdown",
   "metadata": {},
   "source": [
    "#### 9. Explain how you would create an index on the ORIGIN_AIRPORT and DESTINATION_AIRPORT fields to optimize queries filtering by these fields.\n"
   ]
  },
  {
   "cell_type": "code",
   "execution_count": null,
   "metadata": {},
   "outputs": [],
   "source": [
    "flights.create_index(['ORIGIN_AIRPORT','DESTINATION_AIRPORT'])\n",
    "\n",
    "for i in flights.find({},{'_id':0,'ORIGIN_AIRPORT':1,'DESTINATION_AIRPORT':1}):\n",
    "    print(i)\n"
   ]
  },
  {
   "cell_type": "markdown",
   "metadata": {},
   "source": [
    "#### 10. Arrange weekdays with respect to the average arrival delays caused. [Create a suitable plot using matplotlib/seaborn]"
   ]
  },
  {
   "cell_type": "code",
   "execution_count": null,
   "metadata": {},
   "outputs": [],
   "source": [
    "week_delays = flights.aggregate([\n",
    "    {'$group': {'_id':'$DAY_OF_WEEK', 'avgDelay': {'$avg':'$ARRIVAL_DELAY'}}},\n",
    "    {'$project': {'_id':0 ,'DAY_OF_WEEK':'$_id','avgDelay' :{'$round': ['$avgDelay',2]}}},\n",
    "    {'$sort':{'_id':1}}\n",
    "])\n",
    "\n",
    "week_df = pd.DataFrame(list(week_delays))\n",
    "week_df['_id'] = week_df['DAY_OF_WEEK'].apply(lambda x:'MONDAY' if x == 1 \n",
    "                                         else 'TUESDAY' if x == 2 \n",
    "                                         else 'WEDNESDAY' if x == 3 \n",
    "                                         else 'THURSDAY' if x==4 \n",
    "                                         else 'FRIDAY' if x==5 \n",
    "                                         else 'SATURDY' if x==6 \n",
    "                                         else 'SUNDAY')\n",
    "plt.figure(figsize=(11, 6))\n",
    "sns.set_style('whitegrid')\n",
    "sns.barplot(data=week_df, x='_id', y='avgDelay', palette='viridis')\n",
    "plt.xlabel('Day of week')\n",
    "plt.ylabel('Average Arrival Delay')\n",
    "plt.title('Week Days with average arrival delays')\n",
    "plt.xticks(rotation=45)\n",
    "plt.show()"
   ]
  },
  {
   "cell_type": "markdown",
   "metadata": {},
   "source": [
    "#### 11. Arrange Days of month as per cancellations done in descending order. [Create a suitable plot using matplotlib/seaborn]\n"
   ]
  },
  {
   "cell_type": "code",
   "execution_count": null,
   "metadata": {},
   "outputs": [],
   "source": [
    "cancellation_days = flights.aggregate([\n",
    "    {'$match': {'CANCELLED' : 1}},\n",
    "    {'$group': {'_id': '$DAY', 'cancellations': {'$sum': '$CANCELLED'}}},\n",
    "    {'$project': {'_id': 0, 'DAY': '$_id', 'cancellations': 1}},\n",
    "    {'$sort': {'cancellations': -1}}\n",
    "])\n",
    "\n",
    "cancellation_df = pd.DataFrame(cancellation_days)\n",
    "\n",
    "plt.figure(figsize=(12, 8))\n",
    "sns.set_style('darkgrid')\n",
    "sns.barplot(data=cancellation_df, x='DAY', y='cancellations', palette='viridis')\n",
    "plt.xlabel('Day of the Month')\n",
    "plt.ylabel('Total Cancellations')\n",
    "plt.title('Cancellation Count per Day of the Month')\n",
    "plt.xticks(rotation=45)\n",
    "plt.show()\n"
   ]
  },
  {
   "cell_type": "markdown",
   "metadata": {},
   "source": [
    "#### 12. Find the busiest airports with respect to day of week. Represent it by using suitable plot.\n"
   ]
  },
  {
   "cell_type": "code",
   "execution_count": null,
   "metadata": {},
   "outputs": [],
   "source": [
    "busiest_airports = flights.aggregate([\n",
    "    {'$group': {'_id': {'AIRPORT': '$ORIGIN_AIRPORT', 'DAY_OF_WEEK': '$DAY_OF_WEEK'},'count': {'$sum': 1}}},\n",
    "    {'$project': {'_id': 0,'AIRPORT': '$_id.AIRPORT','DAY_OF_WEEK': '$_id.DAY_OF_WEEK','count': 1}},\n",
    "    {'$sort': {'DAY_OF_WEEK': 1,'count': -1}},\n",
    "    {'$group': {'_id': '$DAY_OF_WEEK','AIRPORT': {'$first': '$AIRPORT'},'COUNT': {'$first': '$count'}}},\n",
    "    {'$project': {'_id': 0,'DAY_OF_WEEK': '$_id','AIRPORT': 1,'COUNT': 1}}\n",
    "])\n",
    "\n",
    "buzy_airport_df = pd.DataFrame(busiest_airports)\n",
    "\n",
    "plt.figure(figsize=(12, 8))\n",
    "sns.barplot(data=buzy_airport_df, x='DAY_OF_WEEK', y='COUNT', hue='AIRPORT', palette='viridis')\n",
    "plt.title('Busiest Airports with respect to day of week')\n",
    "plt.xlabel('Day of the Week')\n",
    "plt.ylabel('People count')\n",
    "plt.legend(title='Airport')\n",
    "plt.show()"
   ]
  },
  {
   "cell_type": "markdown",
   "metadata": {},
   "source": [
    "#### 13. Find top 10 Airlines of US. Represent it by using suitable plot.\n"
   ]
  },
  {
   "cell_type": "code",
   "execution_count": null,
   "metadata": {},
   "outputs": [],
   "source": [
    "top_airlines = flights.aggregate([\n",
    "    {'$match':{'AIRLINE':'US'}},\n",
    "    {'$group':{'_id':'$FLIGHT_NUMBER','count':{'$sum' : 1}}},\n",
    "    {'$project':{'_id':0,'FLIGHT_NUMBER':'$_id','count':1}},\n",
    "    {'$sort':{'count':-1}},\n",
    "    {'$limit':10}\n",
    "])\n",
    "top_airlines_df = pd.DataFrame(top_airlines)\n",
    "\n",
    "plt.figure(figsize=(12, 8))\n",
    "sns.set_style('darkgrid')\n",
    "sns.barplot(x=top_airlines_df['FLIGHT_NUMBER'], y=top_airlines_df['count'], palette='viridis')\n",
    "plt.xlabel('Flight number')\n",
    "plt.ylabel('Count of flights')\n",
    "plt.title('Top 10 flights in US')\n",
    "plt.xticks(rotation=45)\n",
    "plt.show()\n"
   ]
  },
  {
   "cell_type": "markdown",
   "metadata": {},
   "source": [
    "#### 14. Finding airlines that make the maximum, minimum number of cancellations.\n"
   ]
  },
  {
   "cell_type": "code",
   "execution_count": null,
   "metadata": {},
   "outputs": [],
   "source": [
    "# max_cancel = flights.aggregate([\n",
    "#     { '$match': { 'CANCELLED': 1 } },\n",
    "#     { '$group': {\n",
    "#         '_id': \"$AIRLINE\",\n",
    "#         'cancellations': { '$sum': 1 }\n",
    "#     }},\n",
    "#     {'$sort':{'cancellations':-1}},\n",
    "#     {'$limit':1},\n",
    "#     { '$project': {\n",
    "#         '_id': 0,\n",
    "#         'AIRLINE': \"$_id\",\n",
    "#         'cancellations': 1\n",
    "#     }}\n",
    "# ])\n",
    "\n",
    "\n",
    "minmax_cancel = flights.aggregate([\n",
    "    { '$match': { 'CANCELLED': 1 } },\n",
    "    { '$group': {\n",
    "        '_id': \"$AIRLINE\",\n",
    "        'cancellations': { '$sum': 1 }\n",
    "    }},\n",
    "    { '$facet': { 'max_cancel': [\n",
    "            {'$sort': {'cancellations': -1}},\n",
    "            {'$limit': 1},\n",
    "            { '$project': {\n",
    "                '_id': 0,\n",
    "                'AIRLINE': \"$_id\",\n",
    "                'cancellations': 1\n",
    "            }}],\n",
    "        'min_cancel': [\n",
    "            {'$sort': {'cancellations': 1}},\n",
    "            {'$limit': 1},\n",
    "            { '$project': {\n",
    "                '_id': 0,\n",
    "                'AIRLINE': \"$_id\",\n",
    "                'cancellations': 1}}]\n",
    "                }\n",
    "    }\n",
    "])\n",
    "\n",
    "for i in minmax_cancel: \n",
    "    print(i)"
   ]
  },
  {
   "cell_type": "code",
   "execution_count": null,
   "metadata": {},
   "outputs": [],
   "source": []
  },
  {
   "cell_type": "markdown",
   "metadata": {},
   "source": [
    "#### 15. Find and show airlines names in descending that make the most number of diversions made. [Create a suitable plot using matplotlib/seaborn]\n"
   ]
  },
  {
   "cell_type": "code",
   "execution_count": null,
   "metadata": {},
   "outputs": [],
   "source": [
    "max_diversion = flights.aggregate([\n",
    "    {'$match':{'DIVERTED':1}},\n",
    "    {'$group': {'_id': \"$AIRLINE\",'diversions': {'$sum':'$DIVERTED'}}},\n",
    "    {'$project': {'_id':0,'AIRLINE':'$_id','diversions':1}},\n",
    "    {'$sort':{'AIRLINE':-1}}\n",
    "])\n",
    "\n",
    "max_diversion_df =pd.DataFrame(max_diversion)\n",
    "\n",
    "plt.figure(figsize=(12,8))\n",
    "sns.set_style('darkgrid')\n",
    "sns.barplot(max_diversion_df,x='AIRLINE',y='diversions',palette='viridis')\n",
    "plt.title('Airlines With Most Diversions')\n",
    "plt.xlabel('AIRLINES')\n",
    "plt.ylabel('Number of Diversions')\n",
    "plt.show()"
   ]
  },
  {
   "cell_type": "code",
   "execution_count": null,
   "metadata": {},
   "outputs": [],
   "source": [
    "for i in flights.find_one():\n",
    "    print(i)"
   ]
  },
  {
   "cell_type": "markdown",
   "metadata": {},
   "source": [
    "#### 16. Finding days of month that see the most number of diversion and delays.\n",
    " "
   ]
  },
  {
   "cell_type": "code",
   "execution_count": null,
   "metadata": {},
   "outputs": [],
   "source": [
    "number_of_diversions = flights.aggregate([\n",
    "    {'$group': {'_id': '$DAY','total_diversions': { '$sum': '$DIVERTED' },\n",
    "                'total_delays': { '$sum': { '$add': ['$ARRIVAL_DELAY','$DEPARTURE_DELAY']}}}},\n",
    "    {'$project': {'_id': 0,'DAY': '$_id','total_diversions': 1,'total_delays': 1}},\n",
    "    {'$sort': {'total_diversions': -1,'total_delays': -1}}\n",
    "])\n",
    "\n",
    "for i in number_of_diversions:\n",
    "    print(i)\n"
   ]
  },
  {
   "cell_type": "markdown",
   "metadata": {},
   "source": [
    "#### 17. Write a MongoDB query to find the flights with the shortest and longest AIR_TIME. Return the flightNumber, airline, and AIR_TIME."
   ]
  },
  {
   "cell_type": "code",
   "execution_count": null,
   "metadata": {},
   "outputs": [],
   "source": [
    "long_short_flights = flights.aggregate([\n",
    "    {'$facet':{\n",
    "        'longest_time': [\n",
    "            {'$project': {'_id': 0,'FLIGHT_NUMBER': 1,'AIRLINE':1,'AIR_TIME':1}},\n",
    "            {'$sort': {'AIR_TIME':-1}},\n",
    "            {'$limit': 1}\n",
    "        ],\n",
    "        'shortest_time': [\n",
    "            {'$project': {'_id': 0,'FLIGHT_NUMBER': 1,'AIRLINE':1,'AIR_TIME':1}},\n",
    "            {'$sort': {'AIR_TIME':1}},\n",
    "            {'$limit': 1}\n",
    "        ],\n",
    "    }}\n",
    "])\n",
    "print(list(long_short_flights))"
   ]
  },
  {
   "cell_type": "markdown",
   "metadata": {},
   "source": [
    "#### 18. Finding all diverted Route from a source to destination Airport & which route is the most diverted route.\n"
   ]
  },
  {
   "cell_type": "code",
   "execution_count": null,
   "metadata": {},
   "outputs": [],
   "source": [
    "flight_df['DIVERTED'].value_counts()"
   ]
  },
  {
   "cell_type": "code",
   "execution_count": null,
   "metadata": {},
   "outputs": [],
   "source": [
    "most_diverted = flights.aggregate([\n",
    "    {'$match' : {'DIVERTED':1}},\n",
    "    {'$group' : {'_id':{'ORIGIN_AIRPORT':'$ORIGIN_AIRPORT','DESTINATION_AIRPORT':'$DESTINATION_AIRPORT'},'COUNT': {'$sum':1}}},\n",
    "    {'$project': {'_id':0,'ORIGIN_AIRPORT':'$_id.ORIGIN_AIRPORT','DESTINATION_AIRPORT':'$_id.DESTINATION_AIRPORT','COUNT':1}},\n",
    "    {'$sort':{'COUNT':-1}},\n",
    "    {'$limit':1}\n",
    "])\n",
    "\n",
    "for i in most_diverted:\n",
    "    print(i)"
   ]
  },
  {
   "cell_type": "markdown",
   "metadata": {},
   "source": [
    "#### 19. Write a MongoDB aggregation pipeline to calculate the all aggregated values for departure delay (DEPARTURE_DELAY) and arrival delay (ARRIVAL_DELAY) for each airline, excluding flights that were either cancelled or diverted."
   ]
  },
  {
   "cell_type": "code",
   "execution_count": null,
   "metadata": {},
   "outputs": [],
   "source": [
    "departure_delay = flights.aggregate([\n",
    "    {'$match': {'$and': [{'DIVERTED': 0},{'CANCELLED': 0}]}},\n",
    "    {'$project': {'_id': 0,'DEPARTURE_DELAY': 1,'ARRIVAL_DELAY': 1}}\n",
    "])\n",
    "\n",
    "for i in departure_delay:\n",
    "    print(i)"
   ]
  },
  {
   "cell_type": "markdown",
   "metadata": {},
   "source": [
    "#### 20. Write a MongoDB query to find all flights that were delayed due to WEATHER_DELAY but were not cancelled or diverted. Include the flightNumber, airline, originAirport, and destinationAirport in the results."
   ]
  },
  {
   "cell_type": "code",
   "execution_count": null,
   "metadata": {},
   "outputs": [],
   "source": [
    "weather_delay = flights.aggregate([\n",
    "    {'$match': {'WEATHER_DELAY': {'$gt':0.0},'$and': [{'DIVERTED': 0},{'CANCELLED': 0}]}},\n",
    "    {'$project': {'_id': 0,'FLIGHT_NUMBER': 1,'AIRLINE': 1,'DESTINATION_AIRPORT':1,'ORIGIN_AIRPORT':1}}\n",
    "])\n",
    "\n",
    "for i in weather_delay:\n",
    "    print(i)"
   ]
  },
  {
   "cell_type": "markdown",
   "metadata": {},
   "source": [
    "#### 21. Write a MongoDB query to find all flights that were delayed both at departure (DEPARTURE_DELAY) and arrival (ARRIVAL_DELAY). Return the count of such Flights which are delayed.\n"
   ]
  },
  {
   "cell_type": "code",
   "execution_count": null,
   "metadata": {},
   "outputs": [],
   "source": [
    "both_delay = flights.aggregate([\n",
    "    {'$match': {'$and': [{'DEPARTURE_DELAY': {'$gt' : 0.0}},{'ARRIVAL_DELAY': {'$gt' : 0.0}}]}},\n",
    "    {'$group': {'_id':None,'COUNT':{'$sum':1}}},\n",
    "    {'$project': {'_id': 0,'FLIGHT_NUMBER':1,'COUNT':1}}\n",
    "])\n",
    "\n",
    "for i in both_delay:\n",
    "    print(i)"
   ]
  },
  {
   "cell_type": "markdown",
   "metadata": {},
   "source": [
    "#### 22. Write a MongoDB query to calculate the frequency of flight takeoffs and landings within defined time intervals (e.g., every hour) throughout the day. Generate a Suitable Plot."
   ]
  },
  {
   "cell_type": "code",
   "execution_count": null,
   "metadata": {},
   "outputs": [],
   "source": [
    "flight_df['D'].dtype"
   ]
  },
  {
   "cell_type": "code",
   "execution_count": null,
   "metadata": {},
   "outputs": [],
   "source": [
    "flight_freq = flights.aggregate([\n",
    "    {'$match': {'DEPARTURE_TIME': {'$gt': 0}, 'ARRIVAL_TIME': {'$gt': 0, '$lt':1000}}},\n",
    "    {'$group': {'_id': {'DEPARTURE_TIME': '$DEPARTURE_TIME', 'ARRIVAL_TIME': '$ARRIVAL_TIME'}, 'COUNT': {'$sum': 1}}},\n",
    "    {'$project' : {'_id':0,'DEPARTURE_TIME':'$_id.DEPARTURE_TIME','ARRIVAL_TIME':'$_id.ARRIVAL_TIME','COUNT':1}}\n",
    "])\n",
    "\n",
    "flight_freq_df = pd.DataFrame(flight_freq)\n",
    "# sns.scatterplot(flight_freq_df,x='DEPARTURE_TIME',y='ARRIVAL_TIME',hue='COUNT',palette='viridis')\n",
    "\n",
    "\n",
    "plt.figure(figsize=(12, 8))\n",
    "plt.title('Heatmap of Flight Frequencies by Departure and Arrival Time')\n",
    "plt.xlabel('Arrival Time')\n",
    "plt.ylabel('Departure Time')\n",
    "\n",
    "heatmap_data = flight_freq_df.pivot(index='DEPARTURE_TIME', columns='ARRIVAL_TIME', values='COUNT')\n",
    "sns.heatmap(heatmap_data, cmap='viridis', linewidths=0.5)\n",
    "\n",
    "plt.show()\n"
   ]
  },
  {
   "cell_type": "markdown",
   "metadata": {},
   "source": [
    "#### 23. Write a MongoDB query to calculate the frequency of flight takeoffs and landings within defined week of day. Generate a Suitable Plot.\n"
   ]
  },
  {
   "cell_type": "code",
   "execution_count": null,
   "metadata": {},
   "outputs": [],
   "source": [
    "for i in flights.find_one():\n",
    "    print(i)"
   ]
  },
  {
   "cell_type": "code",
   "execution_count": null,
   "metadata": {},
   "outputs": [],
   "source": [
    "week_day_freq = flights.aggregate([\n",
    "{'$match': {'DEPARTURE_TIME': {'$gt': 0},'ARRIVAL_TIME': {'$gt': 0}}},\n",
    "{'$group': {'_id': '$DAY_OF_WEEK','total_takeoffs': {'$sum': 1},'total_landings': {'$sum': 1}}},\n",
    "{'$project': {'_id': 0,'DAY_OF_WEEK': '$_id','total_takeoffs': 1,'total_landings': 1}}\n",
    "])\n",
    "\n",
    "# for i in week_day_freq:\n",
    "#     print(i)\n",
    "week_day_df = pd.DataFrame(week_day_freq)\n",
    "week_day_df\n",
    "\n",
    "plt.figure(figsize=(12, 6))\n",
    "sns.barplot(data=week_day_df, x='DAY_OF_WEEK', y='total_takeoffs')\n",
    "sns.barplot(data=week_day_df, x='DAY_OF_WEEK', y='total_landings')\n",
    "plt.xlabel('Day of the Week')\n",
    "plt.ylabel('Count')\n",
    "plt.title('Total Takeoffs and Landings by Day of the Week')\n",
    "plt.xticks(rotation=45)\n",
    "plt.tight_layout()\n",
    "\n",
    "plt.show()"
   ]
  },
  {
   "cell_type": "markdown",
   "metadata": {},
   "source": [
    "#### 24. Write a MongoDB query to find all flights that departed between 6 AM and 12 PM (noon) local time, regardless of the date. Return the flightNumber, airline, and departureTime. Generate a Bar Plot using Time (x-axis) and Frequency (y-axis)."
   ]
  },
  {
   "cell_type": "code",
   "execution_count": null,
   "metadata": {},
   "outputs": [],
   "source": [
    "flight_time = flights.aggregate([\n",
    "    {'$match': {'DEPARTURE_TIME': {'$gte': 6, '$lte': 12}, 'ARRIVAL_TIME': {'$gte': 6, '$lte':12}}},\n",
    "    {'$project' : {'_id':0,'FLIGHT_NUMBER':1,'AIRLINE':1,'DEPARTURE_TIME':1}}\n",
    "])\n",
    "flight_time_df = pd.DataFrame(flight_time)\n",
    "freq = flight_time_df.groupby('DEPARTURE_TIME')['DEPARTURE_TIME'].value_counts()\n",
    "\n",
    "plt.figure(figsize=(12, 6))\n",
    "plt.bar(height=freq.values, x=freq.index)\n",
    "plt.xlabel('Time of departure')\n",
    "plt.ylabel('Count of departures')\n",
    "plt.title('Flights departed between 6am and 12pm')\n",
    "plt.xticks(rotation=45)\n",
    "\n",
    "plt.show()"
   ]
  },
  {
   "cell_type": "markdown",
   "metadata": {},
   "source": [
    "#### 25. When is the best time of day/day of week/time of a year to fly with minimum delays?"
   ]
  },
  {
   "cell_type": "code",
   "execution_count": 80,
   "metadata": {},
   "outputs": [
    {
     "data": {
      "text/plain": [
       "<Axes: xlabel='DAY', ylabel='avgDelay'>"
      ]
     },
     "execution_count": 80,
     "metadata": {},
     "output_type": "execute_result"
    },
    {
     "data": {
      "image/png": "[encoded data removed]",
      "text/plain": [
       "<Figure size 640x480 with 1 Axes>"
      ]
     },
     "metadata": {},
     "output_type": "display_data"
    }
   ],
   "source": [
    "delay_day = flights.aggregate([\n",
    "    {'$group': {'_id':'$DAY', 'avgDelay': {'$avg':{'$add': ['$ARRIVAL_DELAY','$DEPARTURE_DELAY']}}}},\n",
    "    {'$project': {'_id':0,'DAY':'$_id','avgDelay' :{'$round': ['$avgDelay',2]}}},\n",
    "    {'$sort':{'avgDelay':1}}\n",
    "])\n",
    "\n",
    "delay_day_df = pd.DataFrame(delay_day)"
   ]
  },
  {
   "cell_type": "code",
   "execution_count": 73,
   "metadata": {},
   "outputs": [],
   "source": [
    "delay_week = flights.aggregate([\n",
    "    {'$group': {'_id':'$DAY_OF_WEEK', 'avgDelay': {'$avg':{'$add': ['$ARRIVAL_DELAY','$DEPARTURE_DELAY']}}}},\n",
    "    {'$project': {'_id':0,'DAY_OF_WEEK':'$_id','avgDelay' :{'$round': ['$avgDelay',2]}}},\n",
    "    {'$sort':{'avgDelay':1}}\n",
    "])\n",
    "\n",
    "delay_week_df = pd.DataFrame(delay_week)"
   ]
  },
  {
   "cell_type": "code",
   "execution_count": 72,
   "metadata": {},
   "outputs": [],
   "source": [
    "delay_month = flights.aggregate([\n",
    "    {'$group': {'_id':'$MONTH', 'avgDelay': {'$avg':{'$add': ['$ARRIVAL_DELAY','$DEPARTURE_DELAY']}}}},\n",
    "    {'$project': {'_id':0,'MONTH':'$_id','avgDelay' :{'$round': ['$avgDelay',2]}}},\n",
    "    {'$sort':{'avgDelay':1}}\n",
    "])\n",
    "\n",
    "delay_month_df = pd.DataFrame(delay_month)"
   ]
  },
  {
   "cell_type": "code",
   "execution_count": 85,
   "metadata": {},
   "outputs": [
    {
     "data": {
      "image/png": "[encoded data removed]",
      "text/plain": [
       "<Figure size 1000x1500 with 3 Axes>"
      ]
     },
     "metadata": {},
     "output_type": "display_data"
    }
   ],
   "source": [
    "fig, axes = plt.subplots(3, 1, figsize=(10, 15), sharex=True)\n",
    "\n",
    "sns.barplot(data=delay_day_df, x='DAY', y='avgDelay', ax=axes[0],color='r')\n",
    "axes[0].set_title('Average Delay by Day')\n",
    "axes[0].set_xlabel('Day')\n",
    "axes[0].set_ylabel('Average Delay')\n",
    "\n",
    "sns.barplot(data=delay_week_df, x='DAY_OF_WEEK', y='avgDelay', ax=axes[1],color='g')\n",
    "axes[1].set_title('Average Delay by Day of Week')\n",
    "axes[1].set_xlabel('Day of Week')\n",
    "axes[1].set_ylabel('Average Delay')\n",
    "\n",
    "sns.barplot(data=delay_month_df, x='MONTH', y='avgDelay', ax=axes[2],color='b')\n",
    "axes[2].set_title('Average Delay by Month')\n",
    "axes[2].set_xlabel('Month')\n",
    "axes[2].set_ylabel('Average Delay')\n",
    "\n",
    "plt.show()\n"
   ]
  },
  {
   "cell_type": "markdown",
   "metadata": {},
   "source": [
    "#### Insight : The best day to travel is Month 1 in a year , Saturday considering the week and 31st of every month with lease average total delay caused by the flights."
   ]
  }
 ],
 "metadata": {
  "kernelspec": {
   "display_name": "Python 3",
   "language": "python",
   "name": "python3"
  },
  "language_info": {
   "codemirror_mode": {
    "name": "ipython",
    "version": 3
   },
   "file_extension": ".py",
   "mimetype": "text/x-python",
   "name": "python",
   "nbconvert_exporter": "python",
   "pygments_lexer": "ipython3",
   "version": "3.12.3"
  }
 },
 "nbformat": 4,
 "nbformat_minor": 2
}
